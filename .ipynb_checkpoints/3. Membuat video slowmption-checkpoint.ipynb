{
 "cells": [
  {
   "cell_type": "code",
   "execution_count": 1,
   "id": "f2bddae4",
   "metadata": {},
   "outputs": [],
   "source": [
    "import cv2\n",
    "\n",
    "# buka video\n",
    "cap = cv2.VideoCapture(\"/Users/amariofausta/Downloads/VID_20230213_110529.mp4\")\n",
    "\n",
    "# tentukan faktor slow motion\n",
    "slow_factor = 4\n",
    "\n",
    "# baca frame per frame\n",
    "while True:\n",
    "    ret, frame = cap.read()\n",
    "    # simpan frame sebelumnya\n",
    "    last_frame = frame\n",
    "\n",
    "    # keluar dari loop jika video selesai\n",
    "    if not ret:\n",
    "        break\n",
    "\n",
    "    # tunggu selama beberapa waktu\n",
    "    cv2.waitKey(50)\n",
    "\n",
    "    # gabungkan frame sebelumnya dengan frame saat ini\n",
    "    if last_frame is not None:\n",
    "        frame = cv2.addWeighted(frame, 0.5, last_frame, 0.5, 0)\n",
    "\n",
    "    # tampilkan video hasil slow motion\n",
    "    cv2.imshow(\"Slow Motion\", frame)\n",
    "\n",
    "\n",
    "\n",
    "    # keluar dari loop jika tombol \"q\" ditekan\n",
    "    if cv2.waitKey(1) & 0xFF == ord('q'):\n",
    "        break\n",
    "\n",
    "# tutup jendela video dan lepaskan sumber daya\n",
    "cv2.destroyAllWindows()\n",
    "cap.release()\n"
   ]
  },
  {
   "cell_type": "code",
   "execution_count": null,
   "id": "2f79ea9d",
   "metadata": {},
   "outputs": [],
   "source": []
  }
 ],
 "metadata": {
  "kernelspec": {
   "display_name": "Python 3 (ipykernel)",
   "language": "python",
   "name": "python3"
  },
  "language_info": {
   "codemirror_mode": {
    "name": "ipython",
    "version": 3
   },
   "file_extension": ".py",
   "mimetype": "text/x-python",
   "name": "python",
   "nbconvert_exporter": "python",
   "pygments_lexer": "ipython3",
   "version": "3.9.12"
  }
 },
 "nbformat": 4,
 "nbformat_minor": 5
}
