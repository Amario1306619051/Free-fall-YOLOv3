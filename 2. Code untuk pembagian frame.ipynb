{
 "cells": [
  {
   "cell_type": "code",
   "execution_count": 1,
   "id": "dc346609",
   "metadata": {},
   "outputs": [],
   "source": [
    "import cv2\n",
    "import time"
   ]
  },
  {
   "cell_type": "code",
   "execution_count": 2,
   "id": "fece4560",
   "metadata": {},
   "outputs": [],
   "source": [
    "# memuat video\n",
    "cap = cv2.VideoCapture(\"/Users/amariofausta/Downloads/VID_20230315_101735_HSR_12020048021.mp4\")\n",
    "\n",
    "FrameList = []\n",
    "# memastikan video dapat dibuka\n",
    "if not cap.isOpened():\n",
    "    print(\"Error opening video file\")\n",
    "\n",
    "# membaca setiap frame dari video\n",
    "while True:\n",
    "    ret, frame = cap.read()\n",
    "    if not ret:\n",
    "        break\n",
    "    \n",
    "    # menampilkan frame\n",
    "    FrameList.append(frame)\n",
    "    cv2.imshow('frame',frame)\n",
    "    \n",
    "    # menunggu tombol 'q' ditekan untuk berhenti\n",
    "    if cv2.waitKey(25) & 0xFF == ord('q'):\n",
    "        break\n",
    "\n",
    "# menutup jendela dan melease sumber daya\n",
    "cap.release()\n",
    "cv2.destroyAllWindows()\n"
   ]
  },
  {
   "cell_type": "code",
   "execution_count": 3,
   "id": "542a55eb",
   "metadata": {},
   "outputs": [
    {
     "data": {
      "text/plain": [
       "178"
      ]
     },
     "execution_count": 3,
     "metadata": {},
     "output_type": "execute_result"
    }
   ],
   "source": [
    "len(FrameList)"
   ]
  },
  {
   "cell_type": "code",
   "execution_count": 5,
   "id": "327c47e1",
   "metadata": {},
   "outputs": [
    {
     "data": {
      "text/plain": [
       "(29.666666666666668, 4)"
      ]
     },
     "execution_count": 5,
     "metadata": {},
     "output_type": "execute_result"
    }
   ],
   "source": [
    "178/6,4"
   ]
  },
  {
   "cell_type": "code",
   "execution_count": 12,
   "id": "0538a95b",
   "metadata": {},
   "outputs": [],
   "source": [
    "import cv2\n",
    "\n",
    "# sekumpulan gambar\n",
    "images = FrameList\n",
    "\n",
    "# loop melalui setiap gambar\n",
    "for i, img in enumerate(images):\n",
    "    # menyimpan gambar\n",
    "    cv2.imwrite(\"Frame Gambar/gambar_{}.jpg\".format(i), img)\n"
   ]
  },
  {
   "cell_type": "code",
   "execution_count": 6,
   "id": "16f30a83",
   "metadata": {},
   "outputs": [
    {
     "name": "stdout",
     "output_type": "stream",
     "text": [
      "Durasi video: 5.94 detik\n",
      "Durasi video: 00:05\n"
     ]
    }
   ],
   "source": [
    "from moviepy.editor import VideoFileClip\n",
    "\n",
    "# Path ke file video\n",
    "path = \"/Users/amariofausta/Downloads/VID_20230315_101735_HSR_12020048021.mp4\"\n",
    "\n",
    "# Membuat objek VideoFileClip\n",
    "clip = VideoFileClip(path)\n",
    "\n",
    "# Mengambil durasi video dalam detik\n",
    "duration = clip.duration\n",
    "\n",
    "# Menampilkan durasi video\n",
    "print(\"Durasi video:\", duration, \"detik\")\n",
    "\n",
    "# Menampilkan durasi video dalam format menit:detik\n",
    "minutes, seconds = divmod(duration, 60)\n",
    "print(\"Durasi video: {:02d}:{:02d}\".format(int(minutes), int(seconds)))"
   ]
  },
  {
   "cell_type": "code",
   "execution_count": 7,
   "id": "a5cbef98",
   "metadata": {},
   "outputs": [
    {
     "data": {
      "text/plain": [
       "29.966329966329965"
      ]
     },
     "execution_count": 7,
     "metadata": {},
     "output_type": "execute_result"
    }
   ],
   "source": [
    "178/5.94"
   ]
  },
  {
   "cell_type": "code",
   "execution_count": null,
   "id": "a2f8a930",
   "metadata": {},
   "outputs": [],
   "source": []
  }
 ],
 "metadata": {
  "kernelspec": {
   "display_name": "Python 3 (ipykernel)",
   "language": "python",
   "name": "python3"
  },
  "language_info": {
   "codemirror_mode": {
    "name": "ipython",
    "version": 3
   },
   "file_extension": ".py",
   "mimetype": "text/x-python",
   "name": "python",
   "nbconvert_exporter": "python",
   "pygments_lexer": "ipython3",
   "version": "3.11.2"
  }
 },
 "nbformat": 4,
 "nbformat_minor": 5
}
