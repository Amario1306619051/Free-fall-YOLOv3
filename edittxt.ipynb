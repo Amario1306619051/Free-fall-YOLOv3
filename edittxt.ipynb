{
 "cells": [
  {
   "cell_type": "code",
   "execution_count": 2,
   "metadata": {},
   "outputs": [],
   "source": [
    "import os\n",
    "\n",
    "# Mendefinisikan path folder yang berisi file-file TXT\n",
    "folder_path = \"/Users/amariofausta/Documents/Kuliah/Semester 8/Dataset/dataset/1\"\n",
    "\n",
    "# Mendapatkan daftar file TXT dalam folder\n",
    "file_list = [f for f in os.listdir(folder_path) if f.endswith(\".txt\")]\n",
    "\n",
    "# Iterasi melalui setiap file TXT\n",
    "for file_name in file_list:\n",
    "    file_path = os.path.join(folder_path, file_name)\n",
    "\n",
    "    # Membaca file TXT\n",
    "    with open(file_path, \"r\") as file:\n",
    "        isi_file = file.readlines()\n",
    "\n",
    "    # Mengedit isi file dengan menyisakan baris yang diawali dengan angka nol\n",
    "    isi_file_baru = [baris.strip() for baris in isi_file if baris.startswith('1')]\n",
    "\n",
    "    # Menulis isi file yang baru ke dalam file yang sama\n",
    "    with open(file_path, \"w\") as file:\n",
    "        for baris in isi_file_baru:\n",
    "            file.write(baris + \"\\n\")\n"
   ]
  },
  {
   "cell_type": "code",
   "execution_count": null,
   "metadata": {},
   "outputs": [],
   "source": []
  }
 ],
 "metadata": {
  "interpreter": {
   "hash": "b0fa6594d8f4cbf19f97940f81e996739fb7646882a419484c72d19e05852a7e"
  },
  "kernelspec": {
   "display_name": "Python 3.11.2 64-bit",
   "language": "python",
   "name": "python3"
  },
  "language_info": {
   "codemirror_mode": {
    "name": "ipython",
    "version": 3
   },
   "file_extension": ".py",
   "mimetype": "text/x-python",
   "name": "python",
   "nbconvert_exporter": "python",
   "pygments_lexer": "ipython3",
   "version": "3.11.2"
  },
  "orig_nbformat": 4
 },
 "nbformat": 4,
 "nbformat_minor": 2
}
