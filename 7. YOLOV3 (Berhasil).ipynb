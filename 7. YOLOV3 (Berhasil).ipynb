{
 "cells": [
  {
   "cell_type": "code",
   "execution_count": 1,
   "id": "c7b7fe54",
   "metadata": {},
   "outputs": [],
   "source": [
    "import cv2\n",
    "import numpy as np"
   ]
  },
  {
   "cell_type": "code",
   "execution_count": 2,
   "id": "01d5af85",
   "metadata": {},
   "outputs": [],
   "source": [
    "net = cv2.dnn.readNet('/Users/amariofausta/Documents/Kuliah/Semester 8/Bobot/yolov3custom_last.weights copy 5','/Users/amariofausta/Documents/Kuliah/Semester 8/Bobot/yolov3custom2.cfg')\n",
    "with open(\"/Users/amariofausta/Documents/Kuliah/Semester 8/Dataset/dataset/classes.names\", \"r\") as f:\n",
    "    classes = [line.strip() for line in f.readlines()]"
   ]
  },
  {
   "cell_type": "code",
   "execution_count": 3,
   "id": "de27bd18",
   "metadata": {},
   "outputs": [
    {
     "data": {
      "text/plain": [
       "['Bola', 'Pembatas']"
      ]
     },
     "execution_count": 3,
     "metadata": {},
     "output_type": "execute_result"
    }
   ],
   "source": [
    "classes"
   ]
  },
  {
   "cell_type": "code",
   "execution_count": 4,
   "id": "c4c954d5",
   "metadata": {},
   "outputs": [],
   "source": [
    "layer_names = net.getLayerNames()\n",
    "\n",
    "output_layers = [layer_names[i- 1] for i in net.getUnconnectedOutLayers()]"
   ]
  },
  {
   "cell_type": "code",
   "execution_count": 5,
   "id": "62647406",
   "metadata": {},
   "outputs": [
    {
     "name": "stdout",
     "output_type": "stream",
     "text": [
      "200\n",
      "227\n",
      "254\n"
     ]
    }
   ],
   "source": [
    "erno = net.getUnconnectedOutLayers()\n",
    "for i in erno:\n",
    "    print(i)"
   ]
  },
  {
   "cell_type": "code",
   "execution_count": 6,
   "id": "816c72d3",
   "metadata": {},
   "outputs": [],
   "source": [
    "img = cv2.imread(\"/Users/amariofausta/Documents/Kuliah/Semester 8/Dataset/dataset/File 173.jpg\")\n",
    "height, width, channels = img.shape\n",
    "blob = cv2.dnn.blobFromImage(img, 0.00392, (416, 416), (0, 0, 0), True, crop=False)\n"
   ]
  },
  {
   "cell_type": "code",
   "execution_count": 7,
   "id": "30b13ce0",
   "metadata": {},
   "outputs": [
    {
     "data": {
      "text/plain": [
       "array([[[ 75,  65,  55],\n",
       "        [ 73,  63,  53],\n",
       "        [ 70,  61,  51],\n",
       "        ...,\n",
       "        [155, 159, 134],\n",
       "        [156, 160, 135],\n",
       "        [156, 160, 135]],\n",
       "\n",
       "       [[ 76,  66,  56],\n",
       "        [ 74,  64,  54],\n",
       "        [ 71,  62,  52],\n",
       "        ...,\n",
       "        [156, 160, 135],\n",
       "        [156, 160, 135],\n",
       "        [156, 160, 135]],\n",
       "\n",
       "       [[ 74,  66,  53],\n",
       "        [ 72,  64,  51],\n",
       "        [ 70,  62,  49],\n",
       "        ...,\n",
       "        [157, 161, 136],\n",
       "        [156, 160, 135],\n",
       "        [156, 160, 135]],\n",
       "\n",
       "       ...,\n",
       "\n",
       "       [[ 90,  88, 148],\n",
       "        [ 89,  87, 147],\n",
       "        [ 88,  86, 146],\n",
       "        ...,\n",
       "        [104, 103, 167],\n",
       "        [104, 103, 167],\n",
       "        [104, 103, 167]],\n",
       "\n",
       "       [[ 91,  89, 149],\n",
       "        [ 90,  88, 148],\n",
       "        [ 88,  86, 146],\n",
       "        ...,\n",
       "        [104, 103, 167],\n",
       "        [104, 103, 167],\n",
       "        [105, 104, 168]],\n",
       "\n",
       "       [[ 92,  90, 150],\n",
       "        [ 90,  88, 148],\n",
       "        [ 88,  86, 146],\n",
       "        ...,\n",
       "        [105, 104, 168],\n",
       "        [106, 105, 169],\n",
       "        [107, 106, 170]]], dtype=uint8)"
      ]
     },
     "execution_count": 7,
     "metadata": {},
     "output_type": "execute_result"
    }
   ],
   "source": [
    "img"
   ]
  },
  {
   "cell_type": "code",
   "execution_count": 8,
   "id": "9ec06ac5",
   "metadata": {},
   "outputs": [],
   "source": [
    "net.setInput(blob)\n",
    "outs = net.forward(output_layers)\n",
    "\n",
    "class_ids = []\n",
    "confidences = []\n",
    "boxes = []\n",
    "for out in outs:\n",
    "    for detection in out:\n",
    "        scores = detection[5:]\n",
    "        class_id = np.argmax(scores)\n",
    "        confidence = scores[class_id]\n",
    "        if confidence > 0.5:\n",
    "            center_x = int(detection[0] * width)\n",
    "            center_y = int(detection[1] * height)\n",
    "            w = int(detection[2] * width)\n",
    "            h = int(detection[3] * height)\n",
    "            x = center_x - w / 2\n",
    "            y = center_y - h / 2\n",
    "            boxes.append([x, y, w, h])\n",
    "            confidences.append(float(confidence))\n",
    "            class_ids.append(class_id)\n",
    "\n",
    "indexes = cv2.dnn.NMSBoxes(boxes, confidences, 0.5, 0.4)\n",
    "\n",
    "font = cv2.FONT_HERSHEY_PLAIN\n",
    "colors = np.random.uniform(0, 255, size=(len(classes), 3))\n",
    "\n",
    "for i in range(len(boxes)):\n",
    "    if i in indexes:\n",
    "        x, y, w, h = boxes[i]\n",
    "        label = str(classes[class_ids[i]])\n",
    "        color = (0,255,0)\n",
    "        cv2.rectangle(img, (int(x), int(y)), (int(x + w), int(y + h)), color, 10)\n",
    "        cv2.putText(img, label, (int(x), int(y) - 5), font, 10, color, 10)\n",
    "\n",
    "cv2.imshow(\"Image\", img)\n",
    "cv2.waitKey(0)\n",
    "cv2.destroyAllWindows()"
   ]
  }
 ],
 "metadata": {
  "kernelspec": {
   "display_name": "Python 3 (ipykernel)",
   "language": "python",
   "name": "python3"
  },
  "language_info": {
   "codemirror_mode": {
    "name": "ipython",
    "version": 3
   },
   "file_extension": ".py",
   "mimetype": "text/x-python",
   "name": "python",
   "nbconvert_exporter": "python",
   "pygments_lexer": "ipython3",
   "version": "3.11.2"
  }
 },
 "nbformat": 4,
 "nbformat_minor": 5
}
