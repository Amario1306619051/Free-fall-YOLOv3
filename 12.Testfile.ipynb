{
 "cells": [
  {
   "cell_type": "code",
   "execution_count": 3,
   "metadata": {},
   "outputs": [],
   "source": [
    "with open(\"/Users/amariofausta/Downloads/test.txt\", \"r\") as f:\n",
    "    files_to_copy = f.read().splitlines()\n",
    "destination_folder = \"/Users/amariofausta/Documents/Kuliah/Semester 8/Code/test\"\n",
    "\n",
    "import os\n",
    "import shutil\n",
    "\n",
    "for file in files_to_copy:\n",
    "    # tentukan path ke file yang akan dicopy\n",
    "    source_file = os.path.join(\"/Users/amariofausta/Documents/Kuliah/Semester 8/Code/Dataset\", file)\n",
    "\n",
    "    # salin file ke folder tujuan\n",
    "    shutil.copy(source_file, destination_folder)\n",
    "\n",
    "    # jika file adalah file gambar, juga copy file .txt yang memiliki nama yang sama\n",
    "    if file.endswith(\".jpg\") or file.endswith(\".png\"):\n",
    "        txt_file = os.path.splitext(file)[0] + \".txt\"\n",
    "        source_txt_file = os.path.join(\"/Users/amariofausta/Documents/Kuliah/Semester 8/Code/Dataset\", txt_file)\n",
    "        shutil.copy(source_txt_file, destination_folder)\n"
   ]
  },
  {
   "cell_type": "code",
   "execution_count": null,
   "metadata": {},
   "outputs": [],
   "source": []
  }
 ],
 "metadata": {
  "interpreter": {
   "hash": "b0fa6594d8f4cbf19f97940f81e996739fb7646882a419484c72d19e05852a7e"
  },
  "kernelspec": {
   "display_name": "Python 3.11.2 64-bit",
   "language": "python",
   "name": "python3"
  },
  "language_info": {
   "codemirror_mode": {
    "name": "ipython",
    "version": 3
   },
   "file_extension": ".py",
   "mimetype": "text/x-python",
   "name": "python",
   "nbconvert_exporter": "python",
   "pygments_lexer": "ipython3",
   "version": "3.11.2"
  },
  "orig_nbformat": 4
 },
 "nbformat": 4,
 "nbformat_minor": 2
}
