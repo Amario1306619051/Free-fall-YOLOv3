{
 "cells": [
  {
   "cell_type": "code",
   "execution_count": 30,
   "metadata": {},
   "outputs": [],
   "source": [
    "import math\n",
    "\n",
    "def hitung_rata_rata(data):\n",
    "    n = len(data)\n",
    "    total = sum(data)\n",
    "    rata_rata = total / n\n",
    "    return rata_rata\n",
    "\n",
    "def hitung_standar_deviasi(data):\n",
    "    n = len(data)\n",
    "    rata_rata = hitung_rata_rata(data)\n",
    "    selisih_kuadrat = [(x - rata_rata) ** 2 for x in data]\n",
    "    total_selisih_kuadrat = sum(selisih_kuadrat)\n",
    "    varian = total_selisih_kuadrat / (n - 1)\n",
    "    standar_deviasi = math.sqrt(varian)\n",
    "    return standar_deviasi"
   ]
  },
  {
   "cell_type": "code",
   "execution_count": 31,
   "metadata": {},
   "outputs": [],
   "source": [
    "data = [1534, 1540, 1535, 1538, 1538]"
   ]
  },
  {
   "cell_type": "code",
   "execution_count": 32,
   "metadata": {},
   "outputs": [],
   "source": [
    "ratarata = hitung_rata_rata(data)\n",
    "std = hitung_standar_deviasi(data)"
   ]
  },
  {
   "cell_type": "code",
   "execution_count": 33,
   "metadata": {},
   "outputs": [
    {
     "name": "stdout",
     "output_type": "stream",
     "text": [
      "694.8\n",
      "1.9235384061671346\n"
     ]
    }
   ],
   "source": [
    "print(ratarata)\n",
    "print(std)"
   ]
  },
  {
   "cell_type": "code",
   "execution_count": null,
   "metadata": {},
   "outputs": [],
   "source": []
  }
 ],
 "metadata": {
  "interpreter": {
   "hash": "b0fa6594d8f4cbf19f97940f81e996739fb7646882a419484c72d19e05852a7e"
  },
  "kernelspec": {
   "display_name": "Python 3.11.2 64-bit",
   "language": "python",
   "name": "python3"
  },
  "language_info": {
   "codemirror_mode": {
    "name": "ipython",
    "version": 3
   },
   "file_extension": ".py",
   "mimetype": "text/x-python",
   "name": "python",
   "nbconvert_exporter": "python",
   "pygments_lexer": "ipython3",
   "version": "3.11.2"
  },
  "orig_nbformat": 4
 },
 "nbformat": 4,
 "nbformat_minor": 2
}
