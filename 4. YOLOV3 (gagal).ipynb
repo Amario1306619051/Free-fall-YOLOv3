{
 "cells": [
  {
   "cell_type": "code",
   "execution_count": 1,
   "id": "f9c047b3",
   "metadata": {},
   "outputs": [],
   "source": [
    "import cv2"
   ]
  },
  {
   "cell_type": "code",
   "execution_count": null,
   "id": "444fbb46",
   "metadata": {},
   "outputs": [],
   "source": [
    "# memuat video\n",
    "cap = cv2.VideoCapture(\"\")\n",
    "\n",
    "FrameList = []\n",
    "# memastikan video dapat dibuka\n",
    "if not cap.isOpened():\n",
    "    print(\"Error opening video file\")\n",
    "\n",
    "# membaca setiap frame dari video\n",
    "while True:\n",
    "    ret, frame = cap.read()\n",
    "    if not ret:\n",
    "        break\n",
    "    \n",
    "    # menampilkan frame\n",
    "    cv2.imshow(\"Frame\", frame)\n",
    "    FrameList.append(frame)\n",
    "    \n",
    "    # menunggu tombol 'q' ditekan untuk berhenti\n",
    "    if cv2.waitKey(25) & 0xFF == ord('q'):\n",
    "        break\n",
    "\n",
    "# menutup jendela dan melease sumber daya\n",
    "cap.release()\n",
    "cv2.destroyAllWindows()"
   ]
  }
 ],
 "metadata": {
  "kernelspec": {
   "display_name": "Python 3 (ipykernel)",
   "language": "python",
   "name": "python3"
  },
  "language_info": {
   "codemirror_mode": {
    "name": "ipython",
    "version": 3
   },
   "file_extension": ".py",
   "mimetype": "text/x-python",
   "name": "python",
   "nbconvert_exporter": "python",
   "pygments_lexer": "ipython3",
   "version": "3.9.12"
  }
 },
 "nbformat": 4,
 "nbformat_minor": 5
}
