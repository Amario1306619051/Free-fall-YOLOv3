{
 "cells": [
  {
   "cell_type": "code",
   "execution_count": 5,
   "metadata": {},
   "outputs": [],
   "source": [
    "import cv2\n",
    "import numpy as np\n"
   ]
  },
  {
   "cell_type": "code",
   "execution_count": 6,
   "metadata": {},
   "outputs": [],
   "source": [
    "net = cv2.dnn.readNet('/Users/amariofausta/Documents/Kuliah/Semester 8/Bobot/yolov3custom_last.weights copy 5','/Users/amariofausta/Downloads/yolov3custom2.cfg')\n",
    "with open(\"/Users/amariofausta/Documents/Kuliah/Semester 8/Perhitungan-Gerak-Jatuh-Bebas-menggunakan-algoritma-YOLOV3/classes.names\", \"r\") as f:\n",
    "    classes = [line.strip() for line in f.readlines()]"
   ]
  },
  {
   "cell_type": "code",
   "execution_count": 7,
   "metadata": {},
   "outputs": [],
   "source": [
    "image = cv2.imread(\"/Users/amariofausta/Documents/Kuliah/Semester 8/Dataset/dataset/File 802.jpg\")\n"
   ]
  },
  {
   "cell_type": "code",
   "execution_count": 8,
   "metadata": {},
   "outputs": [],
   "source": [
    "blob = cv2.dnn.blobFromImage(image, 1/255.0, (416, 416), swapRB=True, crop=False)\n",
    "net.setInput(blob)\n",
    "layer_names = net.getLayerNames()\n",
    "output_layers = [layer_names[i - 1] for i in net.getUnconnectedOutLayers()]\n",
    "outputs = net.forward(output_layers)\n",
    "boxes = []\n",
    "confidences = []\n",
    "class_ids = []\n",
    "iou_values = []\n",
    "for output in outputs:\n",
    "    for detection in output:\n",
    "        scores = detection[5:]\n",
    "        class_id = np.argmax(scores)\n",
    "        confidence = scores[class_id]\n",
    "        \n",
    "        if confidence > 0.5:\n",
    "            center_x = int(detection[0] * image.shape[1])\n",
    "            center_y = int(detection[1] * image.shape[0])\n",
    "            width = int(detection[2] * image.shape[1])\n",
    "            height = int(detection[3] * image.shape[0])\n",
    "            left = int(center_x - width / 2)\n",
    "            top = int(center_y - height / 2)\n",
    "            \n",
    "            boxes.append([left, top, width, height])\n",
    "            confidences.append(float(confidence))\n",
    "            class_ids.append(class_id)\n",
    "for i in range(len(boxes)):\n",
    "    for j in range(i + 1, len(boxes)):\n",
    "        box1 = boxes[i]\n",
    "        box2 = boxes[j]\n",
    "        \n",
    "        x1 = max(box1[0], box2[0])\n",
    "        y1 = max(box1[1], box2[1])\n",
    "        x2 = min(box1[0] + box1[2], box2[0] + box2[2])\n",
    "        y2 = min(box1[1] + box1[3], box2[1] + box2[3])\n",
    "        \n",
    "        intersection_area = max(0, x2 - x1 + 1) * max(0, y2 - y1 + 1)\n",
    "        box1_area = box1[2] * box1[3]\n",
    "        box2_area = box2[2] * box2[3]\n",
    "        iou = intersection_area / float(box1_area + box2_area - intersection_area)\n",
    "        \n",
    "        iou_values.append(iou)\n",
    "for i in range(len(boxes)):\n",
    "    left, top, width, height = boxes[i]\n",
    "    label = f\"{classes[class_ids[i]]}: {confidences[i]:.2f}, IoU: {iou_values[i]:.2f}\"\n",
    "    cv2.rectangle(image, (left, top), (left + width, top + height), (0, 255, 0), 2)\n",
    "    cv2.putText(image, label, (left, top - 10), cv2.FONT_HERSHEY_SIMPLEX, 0.5, (0, 255, 0), 2)\n",
    "    \n",
    "cv2.imshow(\"Object Detection\", image)\n",
    "cv2.waitKey(0)\n",
    "cv2.destroyAllWindows()\n"
   ]
  },
  {
   "cell_type": "code",
   "execution_count": null,
   "metadata": {},
   "outputs": [],
   "source": []
  }
 ],
 "metadata": {
  "interpreter": {
   "hash": "b0fa6594d8f4cbf19f97940f81e996739fb7646882a419484c72d19e05852a7e"
  },
  "kernelspec": {
   "display_name": "Python 3.11.2 64-bit",
   "language": "python",
   "name": "python3"
  },
  "language_info": {
   "codemirror_mode": {
    "name": "ipython",
    "version": 3
   },
   "file_extension": ".py",
   "mimetype": "text/x-python",
   "name": "python",
   "nbconvert_exporter": "python",
   "pygments_lexer": "ipython3",
   "version": "3.11.2"
  },
  "orig_nbformat": 4
 },
 "nbformat": 4,
 "nbformat_minor": 2
}
