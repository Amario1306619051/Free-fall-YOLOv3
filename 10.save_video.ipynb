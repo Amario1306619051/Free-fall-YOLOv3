{
 "cells": [
  {
   "cell_type": "code",
   "execution_count": 1,
   "metadata": {},
   "outputs": [
    {
     "name": "stdout",
     "output_type": "stream",
     "text": [
      "Moviepy - Building video /Users/amariofausta/Documents/Kuliah/Semester 8/Hasil/Hasil7.mp4.\n",
      "Moviepy - Writing video /Users/amariofausta/Documents/Kuliah/Semester 8/Hasil/Hasil7.mp4\n",
      "\n"
     ]
    },
    {
     "name": "stderr",
     "output_type": "stream",
     "text": [
      "                                                              \r"
     ]
    },
    {
     "name": "stdout",
     "output_type": "stream",
     "text": [
      "Moviepy - Done !\n",
      "Moviepy - video ready /Users/amariofausta/Documents/Kuliah/Semester 8/Hasil/Hasil7.mp4\n"
     ]
    }
   ],
   "source": [
    "import cv2\n",
    "import numpy as np\n",
    "from moviepy.editor import VideoFileClip\n",
    "import os\n",
    "os.environ[\"IMAGEIO_FFMPEG_EXE\"] = \"/usr/bin/ffmpeg\"\n",
    "\n",
    "# Load model dan konfigurasi\n",
    "model_config = '/Users/amariofausta/Documents/Kuliah/Semester 8/Bobot/yolov3custom.cfg'\n",
    "model_weights = '/Users/amariofausta/Documents/Kuliah/Semester 8/Bobot/yolov3custom_last.weights copy 5'\n",
    "net = cv2.dnn.readNetFromDarknet(model_config, model_weights)\n",
    "\n",
    "# Set input dan output layer untuk model\n",
    "output_layers = net.getLayerNames()\n",
    "output_layers = [output_layers[i - 1] for i in net.getUnconnectedOutLayers()]\n",
    "\n",
    "# Load label dari file\n",
    "with open('/Users/amariofausta/Documents/Kuliah/Semester 8/Code/Dataset/dataset/classes.names', 'r') as f:\n",
    "    labels = [line.strip() for line in f.readlines()]\n",
    "\n",
    "\n",
    "# Fungsi untuk melakukan deteksi objek pada setiap frame\n",
    "def detect_objects(frame):\n",
    "    # Konversi frame ke format blob\n",
    "    height, width = frame.shape[:2]\n",
    "    blob = cv2.dnn.blobFromImage(frame, 1/255.0, (416, 416), swapRB=True, crop=False)\n",
    "\n",
    "    # Jalankan inference pada frame\n",
    "    net.setInput(blob)\n",
    "    layer_outputs = net.forward(output_layers)\n",
    "\n",
    "    # Proses output layer dari model\n",
    "    boxes = []\n",
    "    confidences = []\n",
    "    class_ids = []\n",
    "\n",
    "    for output in layer_outputs:\n",
    "        for detection in output:\n",
    "            scores = detection[5:]\n",
    "            class_id = np.argmax(scores)\n",
    "            confidence = scores[class_id]\n",
    "\n",
    "            if confidence > 0.5:\n",
    "                center_x = int(detection[0] * width)\n",
    "                center_y = int(detection[1] * height)\n",
    "                w = int(detection[2] * width)\n",
    "                h = int(detection[3] * height)\n",
    "\n",
    "                x = int(center_x - w/2)\n",
    "                y = int(center_y - h/2)\n",
    "\n",
    "                boxes.append([x, y, w, h])\n",
    "                confidences.append(float(confidence))\n",
    "                class_ids.append(class_id)\n",
    "\n",
    "    # NMS untuk mengurangi overlap deteksi objek\n",
    "    indices = cv2.dnn.NMSBoxes(boxes, confidences, 0.4, 0.3)\n",
    "\n",
    "    # Gambar kotak deteksi objek pada frame\n",
    "    colors = np.random.uniform(0, 255, size=(len(class_ids), 3))\n",
    "\n",
    "    for i in indices:\n",
    "        box = boxes[i]\n",
    "        x, y, w, h = box\n",
    "        label = f'{labels[class_ids[i]]}: {confidences[i]:.2f}'\n",
    "        color = colors[i]\n",
    "\n",
    "        cv2.rectangle(frame, (x, y), (x+w, y+h), color, 2)\n",
    "        cv2.putText(frame, label, (x, y-10), cv2.FONT_HERSHEY_SIMPLEX, 0.5, color, 2)\n",
    "    return frame\n",
    "\n",
    "# Fungsi untuk melakukan deteksi objek pada video\n",
    "def process_video(input_video, output_video):\n",
    "    clip = VideoFileClip(input_video)\n",
    "    processed_clip = clip.fl_image(detect_objects)\n",
    "    processed_clip.write_videofile(output_video,codec='libx264', audio=False)\n",
    "    clip.reader.close()\n",
    "    clip.close()\n",
    "\n",
    "# Jalankan deteksi objek pada video\n",
    "process_video('/Users/amariofausta/Documents/Kuliah/Semester 8/Video mentah/VID_20230306_110231_HSR_24010634253 (1).mp4', '/Users/amariofausta/Documents/Kuliah/Semester 8/Hasil/Hasil7.mp4')"
   ]
  },
  {
   "cell_type": "code",
   "execution_count": null,
   "metadata": {},
   "outputs": [],
   "source": []
  }
 ],
 "metadata": {
  "interpreter": {
   "hash": "b0fa6594d8f4cbf19f97940f81e996739fb7646882a419484c72d19e05852a7e"
  },
  "kernelspec": {
   "display_name": "Python 3.11.2 64-bit",
   "language": "python",
   "name": "python3"
  },
  "language_info": {
   "codemirror_mode": {
    "name": "ipython",
    "version": 3
   },
   "file_extension": ".py",
   "mimetype": "text/x-python",
   "name": "python",
   "nbconvert_exporter": "python",
   "pygments_lexer": "ipython3",
   "version": "3.11.2"
  },
  "orig_nbformat": 4
 },
 "nbformat": 4,
 "nbformat_minor": 2
}
