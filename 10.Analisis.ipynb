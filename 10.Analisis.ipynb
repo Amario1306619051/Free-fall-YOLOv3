{
 "cells": [
  {
   "cell_type": "code",
   "execution_count": 28,
   "metadata": {},
   "outputs": [],
   "source": [
    "import cv2 \n",
    "import numpy as np\n",
    "net = cv2.dnn.readNet('/Users/amariofausta/Documents/Kuliah/Semester 8/Bobot/yolov3custom_last.weights copy 5','/Users/amariofausta/Documents/Kuliah/Semester 8/Bobot/yolov3custom.cfg')\n",
    "with open(\"/Users/amariofausta/Documents/Kuliah/Semester 8/Dataset/dataset/classes.names\", \"r\") as f:\n",
    "    classes = [line.strip() for line in f.readlines()]"
   ]
  },
  {
   "cell_type": "code",
   "execution_count": 29,
   "metadata": {},
   "outputs": [
    {
     "name": "stderr",
     "output_type": "stream",
     "text": [
      "1   HIToolbox                           0x000000019c1145c8 _ZN15MenuBarInstance22EnsureAutoShowObserverEv + 120\n",
      "2   HIToolbox                           0x000000019c0de478 _ZL17BroadcastInternaljPvh + 184\n",
      "3   SkyLight                            0x00000001975f1214 _ZN12_GLOBAL__N_123notify_datagram_handlerEj15CGSDatagramTypePvmS1_ + 896\n",
      "4   SkyLight                            0x00000001975efe10 CGSSnarfAndDispatchDatagrams + 808\n",
      "5   SkyLight                            0x0000000197917a9c SLSGetNextEventRecordInternal + 344\n",
      "6   SkyLight                            0x0000000197718fb0 SLEventCreateNextEvent + 16\n",
      "7   HIToolbox                           0x000000019c0acb58 _ZL38PullEventsFromWindowServerOnConnectionjhP17__CFMachPortBoost + 60\n",
      "8   HIToolbox                           0x000000019c0acae0 _ZL14MessageHandlerP12__CFMachPortPvlS1_ + 60\n",
      "9   CoreFoundation                      0x00000001929f1410 __CFMachPortPerform + 260\n",
      "10  CoreFoundation                      0x00000001929c1f98 __CFRUNLOOP_IS_CALLING_OUT_TO_A_SOURCE1_PERFORM_FUNCTION__ + 60\n",
      "11  CoreFoundation                      0x00000001929c1eb8 __CFRunLoopDoSource1 + 520\n",
      "12  CoreFoundation                      0x00000001929c08a4 __CFRunLoopRun + 2264\n",
      "13  CoreFoundation                      0x00000001929bf878 CFRunLoopRunSpecific + 612\n",
      "14  HIToolbox                           0x000000019c09ffa0 RunCurrentEventLoopInMode + 292\n",
      "15  HIToolbox                           0x000000019c09fde4 ReceiveNextEventCommon + 672\n",
      "16  HIToolbox                           0x000000019c09fb2c _BlockUntilNextEventMatchingListInModeWithFilter + 72\n",
      "17  AppKit                              0x0000000195c4584c _DPSNextEvent + 632\n",
      "18  AppKit                              0x0000000195c449dc -[NSApplication(NSEvent) _nextEventMatchingEventMask:untilDate:inMode:dequeue:] + 728\n",
      "19  cv2.abi3.so                         0x000000011e706d2c cvWaitKey + 344\n",
      "20  cv2.abi3.so                         0x000000011e700e64 _ZN2cv9waitKeyExEi + 168\n",
      "21  cv2.abi3.so                         0x000000011e700f5c _ZN2cv7waitKeyEi + 48\n",
      "22  cv2.abi3.so                         0x000000011dcc98f0 _ZL19pyopencv_cv_waitKeyP7_objectS0_S0_ + 148\n",
      "23  Python                              0x00000001032acad8 cfunction_call + 60\n",
      "24  Python                              0x0000000103258fbc _PyObject_MakeTpCall + 128\n",
      "25  Python                              0x0000000103352184 _PyEval_EvalFrameDefault + 48252\n",
      "26  Python                              0x0000000103345814 PyEval_EvalCode + 280\n",
      "27  Python                              0x0000000103340304 builtin_exec + 432\n",
      "28  Python                              0x000000010335352c _PyEval_EvalFrameDefault + 53284\n",
      "29  Python                              0x000000010327333c gen_send_ex2 + 208\n",
      "30  Python                              0x0000000103349c24 _PyEval_EvalFrameDefault + 14108\n",
      "31  Python                              0x000000010327333c gen_send_ex2 + 208\n",
      "32  Python                              0x0000000103349c24 _PyEval_EvalFrameDefault + 14108\n",
      "33  Python                              0x000000010327333c gen_send_ex2 + 208\n",
      "34  Python                              0x00000001032724e8 gen_send_ex + 36\n",
      "35  Python                              0x0000000103353c50 _PyEval_EvalFrameDefault + 55112\n",
      "36  Python                              0x00000001033574cc _PyEval_Vector + 116\n",
      "37  Python                              0x000000010325c6a0 method_vectorcall + 272\n",
      "38  Python                              0x0000000103259a44 _PyVectorcall_Call + 116\n",
      "39  Python                              0x00000001033542ac _PyEval_EvalFrameDefault + 56740\n",
      "40  Python                              0x000000010327333c gen_send_ex2 + 208\n",
      "41  Python                              0x0000000103349c24 _PyEval_EvalFrameDefault + 14108\n",
      "42  Python                              0x000000010327333c gen_send_ex2 + 208\n",
      "43  Python                              0x0000000103349c24 _PyEval_EvalFrameDefault + 14108\n",
      "44  Python                              0x000000010327333c gen_send_ex2 + 208\n",
      "45  Python                              0x0000000103349c24 _PyEval_EvalFrameDefault + 14108\n",
      "46  Python                              0x000000010327333c gen_send_ex2 + 208\n",
      "47  Python                              0x0000000103349c24 _PyEval_EvalFrameDefault + 14108\n",
      "48  Python                              0x000000010327333c gen_send_ex2 + 208\n",
      "49  _asyncio.cpython-311-darwin.so      0x0000000103ad4874 task_step_impl + 440\n",
      "50  _asyncio.cpython-311-darwin.so      0x0000000103ad4648 task_step + 52\n",
      "51  _asyncio.cpython-311-darwin.so      0x0000000103ad50cc task_wakeup + 120\n",
      "52  Python                              0x00000001032ad420 cfunction_vectorcall_O + 92\n",
      "53  Python                              0x0000000103375440 _PyObject_VectorcallTstate.4591 + 96\n",
      "54  Python                              0x00000001033752f4 context_run + 92\n",
      "55  Python                              0x00000001032ad68c cfunction_vectorcall_FASTCALL_KEYWORDS + 76\n",
      "56  Python                              0x00000001033542ac _PyEval_EvalFrameDefault + 56740\n",
      "57  Python                              0x0000000103345814 PyEval_EvalCode + 280\n",
      "58  Python                              0x0000000103340304 builtin_exec + 432\n",
      "59  Python                              0x00000001032ad68c cfunction_vectorcall_FASTCALL_KEYWORDS + 76\n",
      "60  Python                              0x0000000103351e58 _PyEval_EvalFrameDefault + 47440\n",
      "61  Python                              0x00000001033574cc _PyEval_Vector + 116\n",
      "62  Python                              0x00000001033c9c1c pymain_run_module + 208\n",
      "63  Python                              0x00000001033c9730 Py_RunMain + 896\n",
      "64  Python                              0x00000001033cab1c Py_BytesMain + 40\n",
      "65  dyld                                0x00000001925b7e50 start + 2544\n"
     ]
    },
    {
     "name": "stdout",
     "output_type": "stream",
     "text": [
      "2.9923968379254884\n",
      "4.7551210778763\n",
      "5.959109039955388\n",
      "6.0157983683652345\n",
      "4.83662859068275\n",
      "5.9342889509114904\n",
      "5.869452627616474\n",
      "5.921382892340243\n",
      "5.948668442502146\n",
      "5.962418447376894\n",
      "5.949322369192479\n",
      "5.967204096595118\n",
      "5.853721986967085\n",
      "5.7743777918713\n",
      "5.85927718002095\n",
      "5.936303298485673\n"
     ]
    }
   ],
   "source": [
    "import time\n",
    "import sys\n",
    "import matplotlib.pyplot as plt\n",
    "\n",
    "layer_names = net.getLayerNames()\n",
    "output_layers = [layer_names[i - 1] for i in net.getUnconnectedOutLayers()]\n",
    "measurement_data = []\n",
    "jumlah_frame = 0\n",
    "detik = 0\n",
    "Pembatas = []\n",
    "Pembatas_bawah = 0\n",
    "frame_count = 0\n",
    "catatan_waktu1 = []\n",
    "catatan_waktu2 = []\n",
    "posisi_bola = []\n",
    "frame_bola = []\n",
    "start_time_keseluruhan = time.time()\n",
    "\n",
    "# Start video capture from webcam\n",
    "cap = cv2.VideoCapture('/Users/amariofausta/Documents/Kuliah/Semester 8/Video mentah/60 cm part 1.mp4')\n",
    "while True:\n",
    "    try:\n",
    "        # Read a frame from the video capture\n",
    "        ret, frame = cap.read()\n",
    "        \n",
    "        # Create a blob from the input image\n",
    "        blob = cv2.dnn.blobFromImage(frame, 1/255.0, (416, 416), swapRB=True, crop=False)\n",
    "        \n",
    "        # Pass the blob through the network and get the outputs\n",
    "        net.setInput(blob)\n",
    "        outputs = net.forward(output_layers)\n",
    "        \n",
    "        # Process the outputs to get the detected objects\n",
    "        class_ids = []\n",
    "        confidences = []\n",
    "        boxes = []\n",
    "        for output in outputs:\n",
    "            for detection in output:\n",
    "                scores = detection[5:]\n",
    "                class_id = np.argmax(scores)\n",
    "                confidence = scores[class_id]\n",
    "                if confidence > 0.4:\n",
    "                    # Object detected\n",
    "                    center_x = int(detection[0] * frame.shape[1])\n",
    "                    center_y = int(detection[1] * frame.shape[0])\n",
    "                    width = int(detection[2] * frame.shape[1])\n",
    "                    height = int(detection[3] * frame.shape[0])\n",
    "                    x = int(center_x - width / 2)\n",
    "                    y = int(center_y - height / 2)\n",
    "                    class_ids.append(class_id)\n",
    "                    confidences.append(float(confidence))\n",
    "                    boxes.append([x, y, width, height])\n",
    "            \n",
    "        # Apply non-maximum suppression to remove redundant detections\n",
    "        indices = cv2.dnn.NMSBoxes(boxes, confidences, 0.5, 0.5)\n",
    "        # Draw the detected objects on the image\n",
    "        for i in indices:\n",
    "            box = boxes[i]\n",
    "            x = box[0]\n",
    "            y = box[1]\n",
    "            w = box[2]\n",
    "            h = box[3]\n",
    "            cv2.rectangle(frame, (x, y), (x+w, y+h), (0, 255, 0), 2)\n",
    "            measurement_data.append([y, classes[class_ids[i]]])\n",
    "            cv2.putText(frame, classes[class_ids[i]], (x, y-5), cv2.FONT_HERSHEY_SIMPLEX, 0.5, (0, 255, 0), 2)\n",
    "            #print(boxes[i],classes[class_ids[i]])\n",
    "\n",
    "            #Mengetahui pembatas atas dan bawah\n",
    "            if classes[class_ids[i]] == 'Pembatas':\n",
    "                Pembatas.append(boxes[i])\n",
    "            if len(Pembatas) == 2:\n",
    "                if Pembatas[0][1] > Pembatas[1][1]:\n",
    "                    Pembatas_atas = Pembatas[1][1]\n",
    "                    Pembatas_bawah = Pembatas[0][1]\n",
    "                elif Pembatas[0][1] < Pembatas[1][1]:\n",
    "                    Pembatas_atas = Pembatas[0][1]\n",
    "                    Pembatas_bawah = Pembatas[1][1]\n",
    "\n",
    "            if classes[class_ids[i]] == 'Bola':\n",
    "                posisi_bola.append(boxes[i][1])\n",
    "                frame_bola.append(jumlah_frame)\n",
    "                if len(Pembatas) > 2:\n",
    "                    if boxes[i][1] >= Pembatas_atas and boxes[i][1] <= Pembatas_bawah:\n",
    "                        catatan_waktu1.append(time.time())\n",
    "                    if boxes[i][1] >= Pembatas_bawah:\n",
    "                        catatan_waktu2.append(time.time())\n",
    "\n",
    "        # Display the output image\n",
    "        cv2.imshow(\"Output\", frame)\n",
    "        frame_count += 1\n",
    "        jumlah_frame += 1\n",
    "        \n",
    "        end_time_keseluruhan = time.time()\n",
    "        elapsed_time = end_time_keseluruhan - start_time_keseluruhan\n",
    "        if elapsed_time > 1:\n",
    "            fps = frame_count / elapsed_time\n",
    "            frame_count = 0\n",
    "            start_time_keseluruhan = time.time()\n",
    "            print(fps)\n",
    "        # Wait for a key press to exit\n",
    "        if cv2.waitKey(1) & 0xFF == ord('q'):\n",
    "            break\n",
    "    except:\n",
    "        break        \n",
    "\n",
    "\n",
    "# Release resources\n",
    "cap.release()\n",
    "cv2.destroyAllWindows()"
   ]
  },
  {
   "cell_type": "code",
   "execution_count": 30,
   "metadata": {},
   "outputs": [
    {
     "name": "stdout",
     "output_type": "stream",
     "text": [
      "4.098755836486816  detik pada render 6 FPS dan rekam 120 FPS\n"
     ]
    }
   ],
   "source": [
    "waktu_jatuh = catatan_waktu2[0] - catatan_waktu1[0]\n",
    "print(waktu_jatuh, \" detik pada render 6 FPS dan rekam 120 FPS\") "
   ]
  },
  {
   "cell_type": "code",
   "execution_count": 31,
   "metadata": {},
   "outputs": [],
   "source": [
    "waktu_jatuh = waktu_jatuh/(120/fps)"
   ]
  },
  {
   "cell_type": "code",
   "execution_count": 32,
   "metadata": {},
   "outputs": [
    {
     "name": "stdout",
     "output_type": "stream",
     "text": [
      "694 1534\n"
     ]
    }
   ],
   "source": [
    "print(Pembatas_atas, Pembatas_bawah)"
   ]
  },
  {
   "cell_type": "code",
   "execution_count": 33,
   "metadata": {},
   "outputs": [
    {
     "name": "stdout",
     "output_type": "stream",
     "text": [
      "0.20276214826520078  detik pada real time\n"
     ]
    }
   ],
   "source": [
    "print(waktu_jatuh, \" detik pada real time\") "
   ]
  },
  {
   "cell_type": "code",
   "execution_count": 34,
   "metadata": {},
   "outputs": [
    {
     "name": "stdout",
     "output_type": "stream",
     "text": [
      "9.81857337684702\n"
     ]
    }
   ],
   "source": [
    "percepatan_gravitasi = 0.6/((0.2*waktu_jatuh) + (0.5*waktu_jatuh*waktu_jatuh))\n",
    "print(percepatan_gravitasi)"
   ]
  },
  {
   "cell_type": "code",
   "execution_count": 35,
   "metadata": {},
   "outputs": [
    {
     "data": {
      "text/plain": [
       "[<matplotlib.lines.Line2D at 0x12e421250>]"
      ]
     },
     "execution_count": 35,
     "metadata": {},
     "output_type": "execute_result"
    },
    {
     "data": {
      "image/png": "[encoded data removed]",
      "text/plain": [
       "<Figure size 640x480 with 1 Axes>"
      ]
     },
     "metadata": {},
     "output_type": "display_data"
    }
   ],
   "source": [
    "plt.plot(frame_bola, posisi_bola)\n"
   ]
  },
  {
   "cell_type": "code",
   "execution_count": 36,
   "metadata": {},
   "outputs": [],
   "source": [
    "import csv\n",
    "\n",
    "A = frame_bola\n",
    "B = posisi_bola\n",
    "\n",
    "# Menyimpan data ke dalam file CSV\n",
    "with open('data.csv', 'w', newline='') as file:\n",
    "    writer = csv.writer(file)\n",
    "    writer.writerow(['Urutan frame', 'Posisi bola relatif terhadap sumbu y'])  # Menulis header\n",
    "    writer.writerows(zip(A, B))  # Menulis data"
   ]
  }
 ],
 "metadata": {
  "interpreter": {
   "hash": "b0fa6594d8f4cbf19f97940f81e996739fb7646882a419484c72d19e05852a7e"
  },
  "kernelspec": {
   "display_name": "Python 3.11.2 64-bit",
   "language": "python",
   "name": "python3"
  },
  "language_info": {
   "codemirror_mode": {
    "name": "ipython",
    "version": 3
   },
   "file_extension": ".py",
   "mimetype": "text/x-python",
   "name": "python",
   "nbconvert_exporter": "python",
   "pygments_lexer": "ipython3",
   "version": "3.11.2"
  },
  "orig_nbformat": 4
 },
 "nbformat": 4,
 "nbformat_minor": 2
}
