{
 "cells": [
  {
   "cell_type": "code",
   "execution_count": 42,
   "metadata": {},
   "outputs": [],
   "source": [
    "import cv2 \n",
    "import numpy as np\n",
    "net = cv2.dnn.readNet('/Users/amariofausta/Documents/Kuliah/Semester 8/Bobot/yolov3custom_last.weights copy 5','/Users/amariofausta/Documents/Kuliah/Semester 8/Bobot/yolov3custom.cfg')\n",
    "with open(\"/Users/amariofausta/Documents/Kuliah/Semester 8/Dataset/dataset/classes.names\", \"r\") as f:\n",
    "    classes = [line.strip() for line in f.readlines()]\n",
    "    "
   ]
  },
  {
   "cell_type": "code",
   "execution_count": 43,
   "metadata": {},
   "outputs": [
    {
     "name": "stderr",
     "output_type": "stream",
     "text": [
      "1   HIToolbox                           0x000000018ca585c8 _ZN15MenuBarInstance22EnsureAutoShowObserverEv + 120\n",
      "2   HIToolbox                           0x000000018ca22478 _ZL17BroadcastInternaljPvh + 184\n",
      "3   SkyLight                            0x0000000187f35214 _ZN12_GLOBAL__N_123notify_datagram_handlerEj15CGSDatagramTypePvmS1_ + 896\n",
      "4   SkyLight                            0x0000000187f33e10 CGSSnarfAndDispatchDatagrams + 808\n",
      "5   SkyLight                            0x000000018825ba9c SLSGetNextEventRecordInternal + 344\n",
      "6   SkyLight                            0x000000018805cfb0 SLEventCreateNextEvent + 16\n",
      "7   HIToolbox                           0x000000018c9f0b58 _ZL38PullEventsFromWindowServerOnConnectionjhP17__CFMachPortBoost + 60\n",
      "8   HIToolbox                           0x000000018c9f0ae0 _ZL14MessageHandlerP12__CFMachPortPvlS1_ + 60\n",
      "9   CoreFoundation                      0x0000000183335410 __CFMachPortPerform + 260\n",
      "10  CoreFoundation                      0x0000000183305f98 __CFRUNLOOP_IS_CALLING_OUT_TO_A_SOURCE1_PERFORM_FUNCTION__ + 60\n",
      "11  CoreFoundation                      0x0000000183305eb8 __CFRunLoopDoSource1 + 520\n",
      "12  CoreFoundation                      0x00000001833048a4 __CFRunLoopRun + 2264\n",
      "13  CoreFoundation                      0x0000000183303878 CFRunLoopRunSpecific + 612\n",
      "14  HIToolbox                           0x000000018c9e3fa0 RunCurrentEventLoopInMode + 292\n",
      "15  HIToolbox                           0x000000018c9e3c30 ReceiveNextEventCommon + 236\n",
      "16  HIToolbox                           0x000000018c9e3b2c _BlockUntilNextEventMatchingListInModeWithFilter + 72\n",
      "17  AppKit                              0x000000018658984c _DPSNextEvent + 632\n",
      "18  AppKit                              0x00000001865889dc -[NSApplication(NSEvent) _nextEventMatchingEventMask:untilDate:inMode:dequeue:] + 728\n",
      "19  cv2.abi3.so                         0x000000015e706d2c cvWaitKey + 344\n",
      "20  cv2.abi3.so                         0x000000015e700e64 _ZN2cv9waitKeyExEi + 168\n",
      "21  cv2.abi3.so                         0x000000015e700f5c _ZN2cv7waitKeyEi + 48\n",
      "22  cv2.abi3.so                         0x000000015dcc98f0 _ZL19pyopencv_cv_waitKeyP7_objectS0_S0_ + 148\n",
      "23  Python                              0x0000000104f5cad8 cfunction_call + 60\n",
      "24  Python                              0x0000000104f08fbc _PyObject_MakeTpCall + 128\n",
      "25  Python                              0x0000000105002184 _PyEval_EvalFrameDefault + 48252\n",
      "26  Python                              0x0000000104ff5814 PyEval_EvalCode + 280\n",
      "27  Python                              0x0000000104ff0304 builtin_exec + 432\n",
      "28  Python                              0x000000010500352c _PyEval_EvalFrameDefault + 53284\n",
      "29  Python                              0x0000000104f2333c gen_send_ex2 + 208\n",
      "30  Python                              0x0000000104ff9c24 _PyEval_EvalFrameDefault + 14108\n",
      "31  Python                              0x0000000104f2333c gen_send_ex2 + 208\n",
      "32  Python                              0x0000000104ff9c24 _PyEval_EvalFrameDefault + 14108\n",
      "33  Python                              0x0000000104f2333c gen_send_ex2 + 208\n",
      "34  Python                              0x0000000104f224e8 gen_send_ex + 36\n",
      "35  Python                              0x0000000105003c50 _PyEval_EvalFrameDefault + 55112\n",
      "36  Python                              0x00000001050074cc _PyEval_Vector + 116\n",
      "37  Python                              0x0000000104f0c6a0 method_vectorcall + 272\n",
      "38  Python                              0x0000000104f09a44 _PyVectorcall_Call + 116\n",
      "39  Python                              0x00000001050042ac _PyEval_EvalFrameDefault + 56740\n",
      "40  Python                              0x0000000104f2333c gen_send_ex2 + 208\n",
      "41  Python                              0x0000000104ff9c24 _PyEval_EvalFrameDefault + 14108\n",
      "42  Python                              0x0000000104f2333c gen_send_ex2 + 208\n",
      "43  Python                              0x0000000104ff9c24 _PyEval_EvalFrameDefault + 14108\n",
      "44  Python                              0x0000000104f2333c gen_send_ex2 + 208\n",
      "45  Python                              0x0000000104ff9c24 _PyEval_EvalFrameDefault + 14108\n",
      "46  Python                              0x0000000104f2333c gen_send_ex2 + 208\n",
      "47  Python                              0x0000000104ff9c24 _PyEval_EvalFrameDefault + 14108\n",
      "48  Python                              0x0000000104f2333c gen_send_ex2 + 208\n",
      "49  _asyncio.cpython-311-darwin.so      0x0000000105784874 task_step_impl + 440\n",
      "50  _asyncio.cpython-311-darwin.so      0x0000000105784648 task_step + 52\n",
      "51  _asyncio.cpython-311-darwin.so      0x00000001057850cc task_wakeup + 120\n",
      "52  Python                              0x0000000104f5d420 cfunction_vectorcall_O + 92\n",
      "53  Python                              0x0000000105025440 _PyObject_VectorcallTstate.4591 + 96\n",
      "54  Python                              0x00000001050252f4 context_run + 92\n",
      "55  Python                              0x0000000104f5d68c cfunction_vectorcall_FASTCALL_KEYWORDS + 76\n",
      "56  Python                              0x00000001050042ac _PyEval_EvalFrameDefault + 56740\n",
      "57  Python                              0x0000000104ff5814 PyEval_EvalCode + 280\n",
      "58  Python                              0x0000000104ff0304 builtin_exec + 432\n",
      "59  Python                              0x0000000104f5d68c cfunction_vectorcall_FASTCALL_KEYWORDS + 76\n",
      "60  Python                              0x0000000105001e58 _PyEval_EvalFrameDefault + 47440\n",
      "61  Python                              0x00000001050074cc _PyEval_Vector + 116\n",
      "62  Python                              0x0000000105079c1c pymain_run_module + 208\n",
      "63  Python                              0x0000000105079730 Py_RunMain + 896\n",
      "64  Python                              0x000000010507ab1c Py_BytesMain + 40\n",
      "65  dyld                                0x0000000182efbe50 start + 2544\n",
      "1   HIToolbox                           0x000000018c9e390c _ZN15MenuBarInstance22RemoveAutoShowObserverEv + 44\n",
      "2   HIToolbox                           0x000000018ca22478 _ZL17BroadcastInternaljPvh + 184\n",
      "3   SkyLight                            0x0000000187f35214 _ZN12_GLOBAL__N_123notify_datagram_handlerEj15CGSDatagramTypePvmS1_ + 896\n",
      "4   SkyLight                            0x0000000187f33e10 CGSSnarfAndDispatchDatagrams + 808\n",
      "5   SkyLight                            0x000000018825ba9c SLSGetNextEventRecordInternal + 344\n",
      "6   SkyLight                            0x000000018805cfb0 SLEventCreateNextEvent + 16\n",
      "7   HIToolbox                           0x000000018c9f0b58 _ZL38PullEventsFromWindowServerOnConnectionjhP17__CFMachPortBoost + 60\n",
      "8   HIToolbox                           0x000000018c9f0ae0 _ZL14MessageHandlerP12__CFMachPortPvlS1_ + 60\n",
      "9   CoreFoundation                      0x0000000183335410 __CFMachPortPerform + 260\n",
      "10  CoreFoundation                      0x0000000183305f98 __CFRUNLOOP_IS_CALLING_OUT_TO_A_SOURCE1_PERFORM_FUNCTION__ + 60\n",
      "11  CoreFoundation                      0x0000000183305eb8 __CFRunLoopDoSource1 + 520\n",
      "12  CoreFoundation                      0x00000001833048a4 __CFRunLoopRun + 2264\n",
      "13  CoreFoundation                      0x0000000183303878 CFRunLoopRunSpecific + 612\n",
      "14  HIToolbox                           0x000000018c9e3fa0 RunCurrentEventLoopInMode + 292\n",
      "15  HIToolbox                           0x000000018c9e3c30 ReceiveNextEventCommon + 236\n",
      "16  HIToolbox                           0x000000018c9e3b2c _BlockUntilNextEventMatchingListInModeWithFilter + 72\n",
      "17  AppKit                              0x000000018658984c _DPSNextEvent + 632\n",
      "18  AppKit                              0x00000001865889dc -[NSApplication(NSEvent) _nextEventMatchingEventMask:untilDate:inMode:dequeue:] + 728\n",
      "19  cv2.abi3.so                         0x000000015e706d2c cvWaitKey + 344\n",
      "20  cv2.abi3.so                         0x000000015e700e64 _ZN2cv9waitKeyExEi + 168\n",
      "21  cv2.abi3.so                         0x000000015e700f5c _ZN2cv7waitKeyEi + 48\n",
      "22  cv2.abi3.so                         0x000000015dcc98f0 _ZL19pyopencv_cv_waitKeyP7_objectS0_S0_ + 148\n",
      "23  Python                              0x0000000104f5cad8 cfunction_call + 60\n",
      "24  Python                              0x0000000104f08fbc _PyObject_MakeTpCall + 128\n",
      "25  Python                              0x0000000105002184 _PyEval_EvalFrameDefault + 48252\n",
      "26  Python                              0x0000000104ff5814 PyEval_EvalCode + 280\n",
      "27  Python                              0x0000000104ff0304 builtin_exec + 432\n",
      "28  Python                              0x000000010500352c _PyEval_EvalFrameDefault + 53284\n",
      "29  Python                              0x0000000104f2333c gen_send_ex2 + 208\n",
      "30  Python                              0x0000000104ff9c24 _PyEval_EvalFrameDefault + 14108\n",
      "31  Python                              0x0000000104f2333c gen_send_ex2 + 208\n",
      "32  Python                              0x0000000104ff9c24 _PyEval_EvalFrameDefault + 14108\n",
      "33  Python                              0x0000000104f2333c gen_send_ex2 + 208\n",
      "34  Python                              0x0000000104f224e8 gen_send_ex + 36\n",
      "35  Python                              0x0000000105003c50 _PyEval_EvalFrameDefault + 55112\n",
      "36  Python                              0x00000001050074cc _PyEval_Vector + 116\n",
      "37  Python                              0x0000000104f0c6a0 method_vectorcall + 272\n",
      "38  Python                              0x0000000104f09a44 _PyVectorcall_Call + 116\n",
      "39  Python                              0x00000001050042ac _PyEval_EvalFrameDefault + 56740\n",
      "40  Python                              0x0000000104f2333c gen_send_ex2 + 208\n",
      "41  Python                              0x0000000104ff9c24 _PyEval_EvalFrameDefault + 14108\n",
      "42  Python                              0x0000000104f2333c gen_send_ex2 + 208\n",
      "43  Python                              0x0000000104ff9c24 _PyEval_EvalFrameDefault + 14108\n",
      "44  Python                              0x0000000104f2333c gen_send_ex2 + 208\n",
      "45  Python                              0x0000000104ff9c24 _PyEval_EvalFrameDefault + 14108\n",
      "46  Python                              0x0000000104f2333c gen_send_ex2 + 208\n",
      "47  Python                              0x0000000104ff9c24 _PyEval_EvalFrameDefault + 14108\n",
      "48  Python                              0x0000000104f2333c gen_send_ex2 + 208\n",
      "49  _asyncio.cpython-311-darwin.so      0x0000000105784874 task_step_impl + 440\n",
      "50  _asyncio.cpython-311-darwin.so      0x0000000105784648 task_step + 52\n",
      "51  _asyncio.cpython-311-darwin.so      0x00000001057850cc task_wakeup + 120\n",
      "52  Python                              0x0000000104f5d420 cfunction_vectorcall_O + 92\n",
      "53  Python                              0x0000000105025440 _PyObject_VectorcallTstate.4591 + 96\n",
      "54  Python                              0x00000001050252f4 context_run + 92\n",
      "55  Python                              0x0000000104f5d68c cfunction_vectorcall_FASTCALL_KEYWORDS + 76\n",
      "56  Python                              0x00000001050042ac _PyEval_EvalFrameDefault + 56740\n",
      "57  Python                              0x0000000104ff5814 PyEval_EvalCode + 280\n",
      "58  Python                              0x0000000104ff0304 builtin_exec + 432\n",
      "59  Python                              0x0000000104f5d68c cfunction_vectorcall_FASTCALL_KEYWORDS + 76\n",
      "60  Python                              0x0000000105001e58 _PyEval_EvalFrameDefault + 47440\n",
      "61  Python                              0x00000001050074cc _PyEval_Vector + 116\n",
      "62  Python                              0x0000000105079c1c pymain_run_module + 208\n",
      "63  Python                              0x0000000105079730 Py_RunMain + 896\n",
      "64  Python                              0x000000010507ab1c Py_BytesMain + 40\n",
      "65  dyld                                0x0000000182efbe50 start + 2544\n"
     ]
    },
    {
     "ename": "error",
     "evalue": "OpenCV(4.7.0) /Users/xperience/GHA-OCV-Python/_work/opencv-python/opencv-python/opencv/modules/imgproc/src/resize.cpp:4062: error: (-215:Assertion failed) !ssize.empty() in function 'resize'\n",
     "output_type": "error",
     "traceback": [
      "\u001b[0;31m---------------------------------------------------------------------------\u001b[0m",
      "\u001b[0;31merror\u001b[0m                                     Traceback (most recent call last)",
      "Cell \u001b[0;32mIn[43], line 17\u001b[0m\n\u001b[1;32m     14\u001b[0m ret, frame \u001b[38;5;241m=\u001b[39m cap\u001b[38;5;241m.\u001b[39mread()\n\u001b[1;32m     16\u001b[0m \u001b[38;5;66;03m# Create a blob from the input image\u001b[39;00m\n\u001b[0;32m---> 17\u001b[0m blob \u001b[38;5;241m=\u001b[39m \u001b[43mcv2\u001b[49m\u001b[38;5;241;43m.\u001b[39;49m\u001b[43mdnn\u001b[49m\u001b[38;5;241;43m.\u001b[39;49m\u001b[43mblobFromImage\u001b[49m\u001b[43m(\u001b[49m\u001b[43mframe\u001b[49m\u001b[43m,\u001b[49m\u001b[43m \u001b[49m\u001b[38;5;241;43m1\u001b[39;49m\u001b[38;5;241;43m/\u001b[39;49m\u001b[38;5;241;43m255.0\u001b[39;49m\u001b[43m,\u001b[49m\u001b[43m \u001b[49m\u001b[43m(\u001b[49m\u001b[38;5;241;43m416\u001b[39;49m\u001b[43m,\u001b[49m\u001b[43m \u001b[49m\u001b[38;5;241;43m416\u001b[39;49m\u001b[43m)\u001b[49m\u001b[43m,\u001b[49m\u001b[43m \u001b[49m\u001b[43mswapRB\u001b[49m\u001b[38;5;241;43m=\u001b[39;49m\u001b[38;5;28;43;01mTrue\u001b[39;49;00m\u001b[43m,\u001b[49m\u001b[43m \u001b[49m\u001b[43mcrop\u001b[49m\u001b[38;5;241;43m=\u001b[39;49m\u001b[38;5;28;43;01mFalse\u001b[39;49;00m\u001b[43m)\u001b[49m\n\u001b[1;32m     19\u001b[0m \u001b[38;5;66;03m# Pass the blob through the network and get the outputs\u001b[39;00m\n\u001b[1;32m     20\u001b[0m net\u001b[38;5;241m.\u001b[39msetInput(blob)\n",
      "\u001b[0;31merror\u001b[0m: OpenCV(4.7.0) /Users/xperience/GHA-OCV-Python/_work/opencv-python/opencv-python/opencv/modules/imgproc/src/resize.cpp:4062: error: (-215:Assertion failed) !ssize.empty() in function 'resize'\n"
     ]
    }
   ],
   "source": [
    "layer_names = net.getLayerNames()\n",
    "output_layers = [layer_names[i - 1] for i in net.getUnconnectedOutLayers()]\n",
    "measurement_data = []\n",
    "jumlah_frame = 0\n",
    "detik = 0\n",
    "Pembatas = []\n",
    "\n",
    "\n",
    "# Start video capture from webcam\n",
    "cap = cv2.VideoCapture('/Users/amariofausta/Documents/Kuliah/Semester 8/Video mentah/50 cm part 2.mp4')\n",
    "\n",
    "while True:\n",
    "    # Read a frame from the video capture\n",
    "    ret, frame = cap.read()\n",
    "    \n",
    "    # Create a blob from the input image\n",
    "    blob = cv2.dnn.blobFromImage(frame, 1/255.0, (416, 416), swapRB=True, crop=False)\n",
    "    \n",
    "    # Pass the blob through the network and get the outputs\n",
    "    net.setInput(blob)\n",
    "    outputs = net.forward(output_layers)\n",
    "    \n",
    "    # Process the outputs to get the detected objects\n",
    "    class_ids = []\n",
    "    confidences = []\n",
    "    boxes = []\n",
    "    for output in outputs:\n",
    "        for detection in output:\n",
    "            scores = detection[5:]\n",
    "            class_id = np.argmax(scores)\n",
    "            confidence = scores[class_id]\n",
    "            if confidence > 0.4:\n",
    "                # Object detected\n",
    "                center_x = int(detection[0] * frame.shape[1])\n",
    "                center_y = int(detection[1] * frame.shape[0])\n",
    "                width = int(detection[2] * frame.shape[1])\n",
    "                height = int(detection[3] * frame.shape[0])\n",
    "                x = int(center_x - width / 2)\n",
    "                y = int(center_y - height / 2)\n",
    "                class_ids.append(class_id)\n",
    "                confidences.append(float(confidence))\n",
    "                boxes.append([x, y, width, height])\n",
    "    # Apply non-maximum suppression to remove redundant detections\n",
    "    indices = cv2.dnn.NMSBoxes(boxes, confidences, 0.5, 0.5)\n",
    "    # Draw the detected objects on the image\n",
    "    for i in indices:\n",
    "        box = boxes[i]\n",
    "        x = box[0]\n",
    "        y = box[1]\n",
    "        w = box[2]\n",
    "        h = box[3]\n",
    "        cv2.rectangle(frame, (x, y), (x+w, y+h), (0, 255, 0), 2)\n",
    "        measurement_data.append([y, classes[class_ids[i]]])\n",
    "        cv2.putText(frame, classes[class_ids[i]], (x, y-5), cv2.FONT_HERSHEY_SIMPLEX, 0.5, (0, 255, 0), 2)\n",
    "            \n",
    "    \n",
    "    # Display the output image\n",
    "    cv2.imshow(\"Output\", frame)\n",
    "    jumlah_frame += 1\n",
    "    \n",
    "    # Wait for a key press to exit\n",
    "    if cv2.waitKey(1) & 0xFF == ord('q'):\n",
    "        break\n",
    "\n",
    "\n",
    "\n",
    "# Release resources\n",
    "cap.release()\n",
    "cv2.destroyAllWindows()\n"
   ]
  },
  {
   "cell_type": "code",
   "execution_count": 44,
   "metadata": {},
   "outputs": [],
   "source": [
    "jumlah_frame_masuk = 0\n",
    "pembatas = []\n",
    "\n",
    "\n",
    "for i in range(len(measurement_data)):\n",
    "    if(measurement_data[i][1] == 'Pembatas'):\n",
    "        pembatas.append(measurement_data[i])\n",
    "\n",
    "if(pembatas[0][0] > pembatas[1][0]):\n",
    "    pembatas_atas = pembatas[1][0]\n",
    "    pembatas_bawah = pembatas[0][0]\n",
    "elif(pembatas[0][0] < pembatas[1][0]):\n",
    "    pembatas_atas = pembatas[0][0]\n",
    "    pembatas_bawah = pembatas[1][0]\n",
    "\n",
    "for i in range(len(measurement_data)):\n",
    "    if(measurement_data[i][1] == \"Bola\" and measurement_data[i][0] <= pembatas_bawah and measurement_data[i][0] >= pembatas_atas):\n",
    "        jumlah_frame_masuk += 1\n"
   ]
  },
  {
   "cell_type": "code",
   "execution_count": 45,
   "metadata": {},
   "outputs": [
    {
     "name": "stdout",
     "output_type": "stream",
     "text": [
      "667 1676\n"
     ]
    }
   ],
   "source": [
    "print(pembatas_atas, pembatas_bawah)"
   ]
  },
  {
   "cell_type": "code",
   "execution_count": 46,
   "metadata": {},
   "outputs": [
    {
     "data": {
      "text/plain": [
       "19"
      ]
     },
     "execution_count": 46,
     "metadata": {},
     "output_type": "execute_result"
    }
   ],
   "source": [
    "jumlah_frame_masuk"
   ]
  },
  {
   "cell_type": "code",
   "execution_count": 47,
   "metadata": {},
   "outputs": [],
   "source": [
    "waktu_jatuh = jumlah_frame_masuk*33.3/4"
   ]
  },
  {
   "cell_type": "code",
   "execution_count": 48,
   "metadata": {},
   "outputs": [
    {
     "data": {
      "text/plain": [
       "158.17499999999998"
      ]
     },
     "execution_count": 48,
     "metadata": {},
     "output_type": "execute_result"
    }
   ],
   "source": [
    "waktu_jatuh"
   ]
  },
  {
   "cell_type": "code",
   "execution_count": null,
   "metadata": {},
   "outputs": [],
   "source": []
  }
 ],
 "metadata": {
  "interpreter": {
   "hash": "b0fa6594d8f4cbf19f97940f81e996739fb7646882a419484c72d19e05852a7e"
  },
  "kernelspec": {
   "display_name": "Python 3.11.2 64-bit",
   "language": "python",
   "name": "python3"
  },
  "language_info": {
   "codemirror_mode": {
    "name": "ipython",
    "version": 3
   },
   "file_extension": ".py",
   "mimetype": "text/x-python",
   "name": "python",
   "nbconvert_exporter": "python",
   "pygments_lexer": "ipython3",
   "version": "3.11.2"
  },
  "orig_nbformat": 4
 },
 "nbformat": 4,
 "nbformat_minor": 2
}
