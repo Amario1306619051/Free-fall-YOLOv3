{
 "cells": [
  {
   "cell_type": "code",
   "execution_count": 1,
   "metadata": {},
   "outputs": [],
   "source": [
    "import cv2 \n",
    "import numpy as np\n",
    "net = cv2.dnn.readNet('/Users/amariofausta/Documents/Kuliah/Semester 8/Bobot/yolov3custom_last.weights copy 5','/Users/amariofausta/Documents/Kuliah/Semester 8/Bobot/yolov3custom.cfg')\n",
    "with open(\"/Users/amariofausta/Documents/Kuliah/Semester 8/Dataset/dataset/classes.names\", \"r\") as f:\n",
    "    classes = [line.strip() for line in f.readlines()]"
   ]
  },
  {
   "cell_type": "code",
   "execution_count": 2,
   "metadata": {},
   "outputs": [
    {
     "name": "stderr",
     "output_type": "stream",
     "text": [
      "1   HIToolbox                           0x00000001b7ddc5c8 _ZN15MenuBarInstance22EnsureAutoShowObserverEv + 120\n",
      "2   HIToolbox                           0x00000001b7ddc188 _ZN15MenuBarInstance14EnableAutoShowEv + 60\n",
      "3   HIToolbox                           0x00000001b7d7f310 SetMenuBarObscured + 372\n",
      "4   HIToolbox                           0x00000001b7d7eee8 _ZN13HIApplication15HandleActivatedEP14OpaqueEventRefhP15OpaqueWindowPtrh + 172\n",
      "5   HIToolbox                           0x00000001b7d78fcc _ZN13HIApplication13EventObserverEjP14OpaqueEventRefPv + 296\n",
      "6   HIToolbox                           0x00000001b7d3fcd0 _NotifyEventLoopObservers + 176\n",
      "7   HIToolbox                           0x00000001b7d7896c AcquireEventFromQueue + 432\n",
      "8   HIToolbox                           0x00000001b7d67c84 ReceiveNextEventCommon + 320\n",
      "9   HIToolbox                           0x00000001b7d67b2c _BlockUntilNextEventMatchingListInModeWithFilter + 72\n",
      "10  AppKit                              0x00000001b190d84c _DPSNextEvent + 632\n",
      "11  AppKit                              0x00000001b190c9dc -[NSApplication(NSEvent) _nextEventMatchingEventMask:untilDate:inMode:dequeue:] + 728\n",
      "12  cv2.abi3.so                         0x0000000146706d2c cvWaitKey + 344\n",
      "13  cv2.abi3.so                         0x0000000146700e64 _ZN2cv9waitKeyExEi + 168\n",
      "14  cv2.abi3.so                         0x0000000146700f5c _ZN2cv7waitKeyEi + 48\n",
      "15  cv2.abi3.so                         0x0000000145cc98f0 _ZL19pyopencv_cv_waitKeyP7_objectS0_S0_ + 148\n",
      "16  Python                              0x0000000101528ad8 cfunction_call + 60\n",
      "17  Python                              0x00000001014d4fbc _PyObject_MakeTpCall + 128\n",
      "18  Python                              0x00000001015ce184 _PyEval_EvalFrameDefault + 48252\n",
      "19  Python                              0x00000001015c1814 PyEval_EvalCode + 280\n",
      "20  Python                              0x00000001015bc304 builtin_exec + 432\n",
      "21  Python                              0x00000001015cf52c _PyEval_EvalFrameDefault + 53284\n",
      "22  Python                              0x00000001014ef33c gen_send_ex2 + 208\n",
      "23  Python                              0x00000001015c5c24 _PyEval_EvalFrameDefault + 14108\n",
      "24  Python                              0x00000001014ef33c gen_send_ex2 + 208\n",
      "25  Python                              0x00000001015c5c24 _PyEval_EvalFrameDefault + 14108\n",
      "26  Python                              0x00000001014ef33c gen_send_ex2 + 208\n",
      "27  Python                              0x00000001014ee4e8 gen_send_ex + 36\n",
      "28  Python                              0x00000001014e3664 method_vectorcall_O + 100\n",
      "29  Python                              0x00000001015cde58 _PyEval_EvalFrameDefault + 47440\n",
      "30  Python                              0x00000001015d34cc _PyEval_Vector + 116\n",
      "31  Python                              0x00000001014d86a0 method_vectorcall + 272\n",
      "32  Python                              0x00000001014d5a44 _PyVectorcall_Call + 116\n",
      "33  Python                              0x00000001015d02ac _PyEval_EvalFrameDefault + 56740\n",
      "34  Python                              0x00000001014ef33c gen_send_ex2 + 208\n",
      "35  Python                              0x00000001015c5c24 _PyEval_EvalFrameDefault + 14108\n",
      "36  Python                              0x00000001014ef33c gen_send_ex2 + 208\n",
      "37  Python                              0x00000001015c5c24 _PyEval_EvalFrameDefault + 14108\n",
      "38  Python                              0x00000001014ef33c gen_send_ex2 + 208\n",
      "39  Python                              0x00000001015c5c24 _PyEval_EvalFrameDefault + 14108\n",
      "40  Python                              0x00000001014ef33c gen_send_ex2 + 208\n",
      "41  Python                              0x00000001015c5c24 _PyEval_EvalFrameDefault + 14108\n",
      "42  Python                              0x00000001014ef33c gen_send_ex2 + 208\n",
      "43  _asyncio.cpython-311-darwin.so      0x0000000101d50874 task_step_impl + 440\n",
      "44  _asyncio.cpython-311-darwin.so      0x0000000101d50648 task_step + 52\n",
      "45  _asyncio.cpython-311-darwin.so      0x0000000101d510cc task_wakeup + 120\n",
      "46  Python                              0x0000000101529420 cfunction_vectorcall_O + 92\n",
      "47  Python                              0x00000001015f1440 _PyObject_VectorcallTstate.4591 + 96\n",
      "48  Python                              0x00000001015f12f4 context_run + 92\n",
      "49  Python                              0x000000010152968c cfunction_vectorcall_FASTCALL_KEYWORDS + 76\n",
      "50  Python                              0x00000001015d02ac _PyEval_EvalFrameDefault + 56740\n",
      "51  Python                              0x00000001015c1814 PyEval_EvalCode + 280\n",
      "52  Python                              0x00000001015bc304 builtin_exec + 432\n",
      "53  Python                              0x000000010152968c cfunction_vectorcall_FASTCALL_KEYWORDS + 76\n",
      "54  Python                              0x00000001015cde58 _PyEval_EvalFrameDefault + 47440\n",
      "55  Python                              0x00000001015d34cc _PyEval_Vector + 116\n",
      "56  Python                              0x0000000101645c1c pymain_run_module + 208\n",
      "57  Python                              0x0000000101645730 Py_RunMain + 896\n",
      "58  Python                              0x0000000101646b1c Py_BytesMain + 40\n",
      "59  dyld                                0x00000001ae27fe50 start + 2544\n"
     ]
    },
    {
     "ename": "error",
     "evalue": "OpenCV(4.7.0) /Users/xperience/GHA-OCV-Python/_work/opencv-python/opencv-python/opencv/modules/imgproc/src/resize.cpp:4062: error: (-215:Assertion failed) !ssize.empty() in function 'resize'\n",
     "output_type": "error",
     "traceback": [
      "\u001b[0;31m---------------------------------------------------------------------------\u001b[0m",
      "\u001b[0;31merror\u001b[0m                                     Traceback (most recent call last)",
      "Cell \u001b[0;32mIn[2], line 22\u001b[0m\n\u001b[1;32m     19\u001b[0m ret, frame \u001b[38;5;241m=\u001b[39m cap\u001b[38;5;241m.\u001b[39mread()\n\u001b[1;32m     21\u001b[0m \u001b[38;5;66;03m# Create a blob from the input image\u001b[39;00m\n\u001b[0;32m---> 22\u001b[0m blob \u001b[38;5;241m=\u001b[39m \u001b[43mcv2\u001b[49m\u001b[38;5;241;43m.\u001b[39;49m\u001b[43mdnn\u001b[49m\u001b[38;5;241;43m.\u001b[39;49m\u001b[43mblobFromImage\u001b[49m\u001b[43m(\u001b[49m\u001b[43mframe\u001b[49m\u001b[43m,\u001b[49m\u001b[43m \u001b[49m\u001b[38;5;241;43m1\u001b[39;49m\u001b[38;5;241;43m/\u001b[39;49m\u001b[38;5;241;43m255.0\u001b[39;49m\u001b[43m,\u001b[49m\u001b[43m \u001b[49m\u001b[43m(\u001b[49m\u001b[38;5;241;43m416\u001b[39;49m\u001b[43m,\u001b[49m\u001b[43m \u001b[49m\u001b[38;5;241;43m416\u001b[39;49m\u001b[43m)\u001b[49m\u001b[43m,\u001b[49m\u001b[43m \u001b[49m\u001b[43mswapRB\u001b[49m\u001b[38;5;241;43m=\u001b[39;49m\u001b[38;5;28;43;01mTrue\u001b[39;49;00m\u001b[43m,\u001b[49m\u001b[43m \u001b[49m\u001b[43mcrop\u001b[49m\u001b[38;5;241;43m=\u001b[39;49m\u001b[38;5;28;43;01mFalse\u001b[39;49;00m\u001b[43m)\u001b[49m\n\u001b[1;32m     24\u001b[0m \u001b[38;5;66;03m# Pass the blob through the network and get the outputs\u001b[39;00m\n\u001b[1;32m     25\u001b[0m net\u001b[38;5;241m.\u001b[39msetInput(blob)\n",
      "\u001b[0;31merror\u001b[0m: OpenCV(4.7.0) /Users/xperience/GHA-OCV-Python/_work/opencv-python/opencv-python/opencv/modules/imgproc/src/resize.cpp:4062: error: (-215:Assertion failed) !ssize.empty() in function 'resize'\n"
     ]
    }
   ],
   "source": [
    "import time\n",
    "\n",
    "layer_names = net.getLayerNames()\n",
    "output_layers = [layer_names[i - 1] for i in net.getUnconnectedOutLayers()]\n",
    "measurement_data = []\n",
    "jumlah_frame = 0\n",
    "detik = 0\n",
    "Pembatas = []\n",
    "Pembatas_bawah = 0\n",
    "frame_count = 0\n",
    "start_time = time.time()\n",
    "catatan_waktu1 = []\n",
    "catatan_waktu2 = []\n",
    "\n",
    "# Start video capture from webcam\n",
    "cap = cv2.VideoCapture('/Users/amariofausta/Documents/Kuliah/Semester 8/Video mentah/60 cm part 1.mp4')\n",
    "while True:\n",
    "    # Read a frame from the video capture\n",
    "    ret, frame = cap.read()\n",
    "    \n",
    "    # Create a blob from the input image\n",
    "    blob = cv2.dnn.blobFromImage(frame, 1/255.0, (416, 416), swapRB=True, crop=False)\n",
    "    \n",
    "    # Pass the blob through the network and get the outputs\n",
    "    net.setInput(blob)\n",
    "    outputs = net.forward(output_layers)\n",
    "    \n",
    "    # Process the outputs to get the detected objects\n",
    "    class_ids = []\n",
    "    confidences = []\n",
    "    boxes = []\n",
    "    for output in outputs:\n",
    "        for detection in output:\n",
    "            scores = detection[5:]\n",
    "            class_id = np.argmax(scores)\n",
    "            confidence = scores[class_id]\n",
    "            if confidence > 0.4:\n",
    "                # Object detected\n",
    "                center_x = int(detection[0] * frame.shape[1])\n",
    "                center_y = int(detection[1] * frame.shape[0])\n",
    "                width = int(detection[2] * frame.shape[1])\n",
    "                height = int(detection[3] * frame.shape[0])\n",
    "                x = int(center_x - width / 2)\n",
    "                y = int(center_y - height / 2)\n",
    "                class_ids.append(class_id)\n",
    "                confidences.append(float(confidence))\n",
    "                boxes.append([x, y, width, height])\n",
    "        \n",
    "    # Apply non-maximum suppression to remove redundant detections\n",
    "    indices = cv2.dnn.NMSBoxes(boxes, confidences, 0.5, 0.5)\n",
    "    # Draw the detected objects on the image\n",
    "    for i in indices:\n",
    "        box = boxes[i]\n",
    "        x = box[0]\n",
    "        y = box[1]\n",
    "        w = box[2]\n",
    "        h = box[3]\n",
    "        cv2.rectangle(frame, (x, y), (x+w, y+h), (0, 255, 0), 2)\n",
    "        measurement_data.append([y, classes[class_ids[i]]])\n",
    "        cv2.putText(frame, classes[class_ids[i]], (x, y-5), cv2.FONT_HERSHEY_SIMPLEX, 0.5, (0, 255, 0), 2)\n",
    "        #print(boxes[i],classes[class_ids[i]])\n",
    "\n",
    "        #Mengetahui pembatas atas dan bawah\n",
    "        if classes[class_ids[i]] == 'Pembatas':\n",
    "            Pembatas.append(boxes[i])\n",
    "        if len(Pembatas) == 2:\n",
    "            if Pembatas[0][1] > Pembatas[1][1]:\n",
    "                Pembatas_atas = Pembatas[1][1]\n",
    "                Pembatas_bawah = Pembatas[0][1]\n",
    "            elif Pembatas[0][1] < Pembatas[1][1]:\n",
    "                Pembatas_atas = Pembatas[0][1]\n",
    "                Pembatas_bawah = Pembatas[1][1]\n",
    "\n",
    "        if classes[class_ids[i]] == 'Bola':\n",
    "            if len(Pembatas) > 2:\n",
    "                if boxes[i][1] >= Pembatas_atas and boxes[i][1] <= Pembatas_bawah:\n",
    "                    catatan_waktu1.append(time.time())\n",
    "                if boxes[i][1] >= Pembatas_bawah:\n",
    "                    catatan_waktu2.append(time.time())\n",
    "\n",
    "    # Display the output image\n",
    "    cv2.imshow(\"Output\", frame)\n",
    "    frame_count += 1\n",
    "    jumlah_frame += 1\n",
    "    \n",
    "    #elapsed_time = time.time() - start_time\n",
    "    '''\n",
    "    if elapsed_time > 1:\n",
    "        fps = frame_count / elapsed_time\n",
    "        #print(\"FPS: {:.2f}\".format(fps))\n",
    "        frame_count = 0\n",
    "        start_time = time.time()\n",
    "    '''\n",
    "    # Wait for a key press to exit\n",
    "    if cv2.waitKey(1) & 0xFF == ord('q'):\n",
    "        break\n",
    "\n",
    "\n",
    "\n",
    "# Release resources\n",
    "cap.release()\n",
    "cv2.destroyAllWindows()\n"
   ]
  },
  {
   "cell_type": "code",
   "execution_count": 3,
   "metadata": {},
   "outputs": [
    {
     "name": "stdout",
     "output_type": "stream",
     "text": [
      "4.075834035873413  detik pada render 6 FPS dan rekam 120 FPS\n"
     ]
    }
   ],
   "source": [
    "waktu_jatuh = catatan_waktu2[0] - catatan_waktu1[0]\n",
    "print(waktu_jatuh, \" detik pada render 6 FPS dan rekam 120 FPS\") "
   ]
  },
  {
   "cell_type": "code",
   "execution_count": 4,
   "metadata": {},
   "outputs": [],
   "source": [
    "waktu_jatuh = waktu_jatuh/20"
   ]
  },
  {
   "cell_type": "code",
   "execution_count": 5,
   "metadata": {},
   "outputs": [
    {
     "name": "stdout",
     "output_type": "stream",
     "text": [
      "694 1534\n"
     ]
    }
   ],
   "source": [
    "print(Pembatas_atas, Pembatas_bawah)"
   ]
  },
  {
   "cell_type": "code",
   "execution_count": 6,
   "metadata": {},
   "outputs": [
    {
     "name": "stdout",
     "output_type": "stream",
     "text": [
      "0.20379170179367065  detik pada real time\n"
     ]
    }
   ],
   "source": [
    "print(waktu_jatuh, \" detik pada real time\") "
   ]
  },
  {
   "cell_type": "code",
   "execution_count": 7,
   "metadata": {},
   "outputs": [
    {
     "name": "stdout",
     "output_type": "stream",
     "text": [
      "9.752312519016474\n"
     ]
    }
   ],
   "source": [
    "percepatan_gravitasi = 0.6/((0.2*waktu_jatuh) + (0.5*waktu_jatuh*waktu_jatuh))\n",
    "print(percepatan_gravitasi)"
   ]
  }
 ],
 "metadata": {
  "interpreter": {
   "hash": "b0fa6594d8f4cbf19f97940f81e996739fb7646882a419484c72d19e05852a7e"
  },
  "kernelspec": {
   "display_name": "Python 3.11.2 64-bit",
   "language": "python",
   "name": "python3"
  },
  "language_info": {
   "codemirror_mode": {
    "name": "ipython",
    "version": 3
   },
   "file_extension": ".py",
   "mimetype": "text/x-python",
   "name": "python",
   "nbconvert_exporter": "python",
   "pygments_lexer": "ipython3",
   "version": "3.11.2"
  },
  "orig_nbformat": 4
 },
 "nbformat": 4,
 "nbformat_minor": 2
}
